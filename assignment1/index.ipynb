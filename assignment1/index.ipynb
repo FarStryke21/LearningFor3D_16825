{
 "cells": [
  {
   "cell_type": "markdown",
   "metadata": {},
   "source": [
    "## Assignment 1\n",
    "Aman Chulawala"
   ]
  },
  {
   "cell_type": "markdown",
   "metadata": {},
   "source": [
    "### Task 1: Practicing with Cameras\n",
    "**Prompt 1.1:** 360-degree Renders (5 points)\n",
    "\n",
    "![360-degree Renders](results/cow_360.gif)\n",
    "\n",
    "**Prompt 1.2:** Recreating the Dolly Zoom (10 points)\n",
    "\n",
    "![Dolly Zoom](results/dolly_zoom.gif)\n",
    "\n"
   ]
  },
  {
   "cell_type": "markdown",
   "metadata": {},
   "source": [
    "### Task 2: Practicing with Meshes\n",
    "**Prompt 2.1:** Constructing a Tetrahedron (5 points)\n",
    "\n",
    "![Tetrahedron](results/tetrahedron_360.gif)\n",
    "\n",
    "The Tetrahedron required 4 veertices and 4 faces\n",
    "\n",
    "**Prompt 2.2:** Constructing a Cube (5 points)\n",
    "\n",
    "![Dolly Zoom](results/cube_360.gif)\n",
    "\n",
    "The Cube required 8 vertices and 12 faces \n"
   ]
  },
  {
   "cell_type": "markdown",
   "metadata": {},
   "source": [
    "### Task 3: Re-texturing a mesh (10 points)\n",
    "\n",
    "![Retuxturing a Mesh](results/cow_360_retextured.gif)\n",
    "\n",
    "color1 = [0, 0, 1] and color2 = [1, 0, 0].\n"
   ]
  },
  {
   "cell_type": "markdown",
   "metadata": {},
   "source": [
    "### Task 4: Camera Transformations (10 points)\n",
    "**Image 1:**\n",
    "\n",
    "![Image 1](results/Q4_img1.jpg)\n",
    "\n",
    "For Image 1 we rotate the camera anticlockwise by 90 degrees\n",
    "\n",
    "**Image 2:**\n",
    "\n",
    "![Image 2](results/Q4_img2.jpg)\n",
    "\n",
    "For Image 2 we move the camera back by 3 units\n",
    "\n",
    "**Image 3:**\n",
    "\n",
    "![Image 3](results/Q4_img3.jpg)\n",
    "\n",
    "For Image 3 we move the camera up and right by 0.5 units\n",
    "\n",
    "**Image 4:**\n",
    "\n",
    "![Image 4](results/Q4_img4.jpg)\n",
    "\n",
    "For Image 4 we move the camera forward and right by 3 units, and rotate the camera about the vertical axis by 90 degrees\n"
   ]
  },
  {
   "cell_type": "markdown",
   "metadata": {},
   "source": [
    "### Task 5: Rendering Generic 3D Representations\n",
    "**Prompt 5.1:** Rendering Point Clouds from RGB-D Images (10 points)\n",
    "\n",
    "![Pointcloud 1](results/pointcloud1.gif)\n",
    "![Pointcloud 2](results/pointcloud2.gif)\n",
    "![Pointcloud 3](results/pointcloud3.gif)\n",
    "\n",
    "\n",
    "**Prompt 5.2:** Parametric Functions (10+5 points)\n",
    "\n",
    "![Torus](results/torus_parametric.gif)\n",
    "![Trefoil](results/trefoil_knot.gif)\n",
    "\n",
    "**Prompt 5.3:** Implicit Surfaces (15+5 points)\n",
    "\n",
    "![Torus](results/torus_implicit.gif)\n",
    "![Trefoil](results/genus_implicit.gif)\n",
    "\n",
    "Rendering as a mesh and rendering as a point cloud each has its own set of tradeoffs, and the choice between them depends on the specific requirements of the application. Here are some considerations:\n",
    "\n",
    "Rendering Speed:\n",
    "Rendering a mesh involves rasterizing triangles, which is a well-optimized process in modern graphics hardware. GPUs are highly efficient at rendering triangles, and techniques like hardware acceleration can significantly boost performance. Rendering individual points can be computationally expensive, especially for large point clouds. While some optimizations can be applied, such as using point sprites or GPU instancing, rendering speed may be a concern for very dense point clouds.\n",
    "\n",
    "Rendering Quality:\n",
    "Meshes generally provide high-quality rendering with smooth surfaces and realistic shading. Techniques like normal mapping, texture mapping, and other shading effects are well-supported. Rendering point clouds may lack some of the fine details seen in mesh rendering. However, point clouds are well-suited for representing irregular or sparse data, and they can capture details that might be challenging for a mesh representation.\n",
    "\n",
    "Ease of Use:\n",
    "Mesh Working with meshes is a standard and well-established practice in computer graphics. Many 3D modeling tools and rendering engines are designed around mesh representations, making them easy to use for artists and developers. Handling point clouds may require additional considerations, such as optimizing for different point densities, choosing appropriate rendering techniques, and addressing issues related to occlusion and visibility.\n",
    "\n",
    "Memory Usage:\n",
    "Meshes can be memory-intensive, especially for high-resolution models with detailed geometry and textures. However, modern graphics hardware efficiently manages mesh data, and level-of-detail techniques can be applied to reduce memory usage. Point clouds can be memory-efficient compared to dense meshes, especially when representing sparse or irregular data. However, for very large point clouds, memory consumption can still be a concern.\n",
    "\n",
    "Data Representation:\n",
    "Meshes are well-suited for representing continuous surfaces and structured geometry. They are standard in 3D modeling workflows and are compatible with various file formats. Point clouds are versatile and can represent unstructured or irregular data, such as 3D scans or scattered data points. They may be more suitable for certain applications like LiDAR data or medical imaging."
   ]
  },
  {
   "cell_type": "markdown",
   "metadata": {},
   "source": [
    "### Task 6: Do Something Fun (10 points)\n",
    "\n",
    "![Visibility](results/visibility.gif)\n",
    "\n",
    "\n",
    "The idea here is to create a function that can return a visility matrix for a given point cloud from a given camera position. This function has direct relation to my research work and that is why I have chosen to implement it here\n",
    "\n",
    "In the gif, the red region is what is seen by a camera revolving around the object. A scene capturing camera trails a little behind the first camera.\n",
    "\n"
   ]
  },
  {
   "cell_type": "markdown",
   "metadata": {},
   "source": [
    "### Task 7: Sampling Points on Meshes (10 points)\n",
    "\n",
    "\n",
    "![Original Mesh](results/cow_360.gif)\n",
    "![Sample 10](results/sample10.gif)\n",
    "\n",
    "![Original Mesh](results/cow_360.gif)\n",
    "![Sample 100](results/sample100.gif)\n",
    "\n",
    "![Original Mesh](results/cow_360.gif)\n",
    "![Sample 1000](results/sample1000.gif)\n",
    "\n",
    "![Original Mesh](results/cow_360.gif)\n",
    "![Sample 10000](results/sample10000.gif)\n",
    "\n"
   ]
  },
  {
   "cell_type": "markdown",
   "metadata": {},
   "source": []
  }
 ],
 "metadata": {
  "language_info": {
   "name": "python"
  }
 },
 "nbformat": 4,
 "nbformat_minor": 2
}

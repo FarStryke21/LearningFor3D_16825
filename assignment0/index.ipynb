{
 "cells": [
  {
   "cell_type": "markdown",
   "metadata": {},
   "source": [
    "## Assignment 0\n",
    "Aman Chulawala"
   ]
  },
  {
   "cell_type": "markdown",
   "metadata": {},
   "source": [
    "### Task 1: ChatGPT\n",
    "**Prompt: What are Neural Radiance Fields? Tell me a joke about them.**\n",
    "\n",
    "**Answer:**\n",
    "\n",
    "Neural Radiance Fields (NeRF) is a technique used in computer graphics and computer vision to model 3D scenes or objects. It was introduced in the paper titled \"NeRF: Representing Scenes as Neural Radiance Fields\" by Ben Mildenhall et al., presented at the Conference on Neural Information Processing Systems (NeurIPS) in 2020.\n",
    "\n",
    "In traditional computer graphics, 3D scenes are often represented using geometric models, such as meshes or point clouds. NeRF takes a different approach by representing a scene as a continuous function that predicts the color and opacity of the scene at any given 3D point. This continuous function is modeled by a neural network.\n",
    "\n",
    "Here is a joke about them:\n",
    "Why did the Neural Radiance Field refuse to go to the comedy club?\n",
    "It couldn't handle the pressure of rendering jokes in real-time!"
   ]
  },
  {
   "cell_type": "markdown",
   "metadata": {},
   "source": [
    "### Task 2: 3D Shape Images\n",
    "![Object with an Interesting 3D Shape](data/task2.jpg)\n",
    "\n",
    "Source: https://parametrichouse.com/infinity-cube/"
   ]
  },
  {
   "cell_type": "markdown",
   "metadata": {},
   "source": [
    "### Task 3: Funny GIFs\n",
    "![Funny GIF](data/task3.gif)\n",
    "\n",
    "Source: https://giphy.com/gifs/movie-s-anime-animated-oEXpKfMSx5WXC"
   ]
  }
 ],
 "metadata": {
  "language_info": {
   "name": "python"
  }
 },
 "nbformat": 4,
 "nbformat_minor": 2
}

{
 "cells": [
  {
   "cell_type": "markdown",
   "metadata": {},
   "source": [
    "# Assignment 5\n",
    "Aman Chulawala"
   ]
  },
  {
   "cell_type": "markdown",
   "metadata": {},
   "source": [
    "## Q1. Classification Model (40 points)"
   ]
  },
  {
   "cell_type": "markdown",
   "metadata": {},
   "source": [
    "Accuracy of the best model: 0.9790136411332634"
   ]
  },
  {
   "cell_type": "markdown",
   "metadata": {},
   "source": [
    "|Classification|Ground Truth|Prediction|\n",
    "---|---|---\n",
    "|Chair|![gt](data/q1/gt_exp_4.gif)|![pred](data/q1/pred_exp_4.gif)|\n",
    "|Chair|![gt](data/q1/gt_exp_352.gif)|![pred](data/q1/pred_exp_352.gif)|\n",
    "|Chair (Misclassified: Lamp)|![gt](data/q1/gt_exp_406.gif)|![pred](data/q1/pred_exp_406.gif)|\n",
    "|Vase|![gt](data/q1/gt_exp_626.gif)|![pred](data/q1/pred_exp_626.gif)|\n",
    "|Vase|![gt](data/q1/gt_exp_677.gif)|![pred](data/q1/pred_exp_677.gif)|\n",
    "|Vase (Misclassified: Lamp)|![gt](data/q1/gt_exp_618.gif)|![pred](data/q1/pred_exp_618.gif)|\n",
    "|Lamp|![gt](data/q1/gt_exp_763.gif)|![pred](data/q1/pred_exp_763.gif)|\n",
    "|Lamp|![gt](data/q1/gt_exp_856.gif)|![pred](data/q1/pred_exp_856.gif)|\n",
    "|Lamp (Misclassified: Vase)|![gt](data/q1/gt_exp_859.gif)|![pred](data/q1/pred_exp_859.gif)|\n"
   ]
  },
  {
   "cell_type": "markdown",
   "metadata": {},
   "source": [
    "Interpretation: The classification model performs well, providing a high degree of accuracy. It does fail in situation where the model features align too much with an incorrect class. A cylindrical shape is classified as a vase, and a non cylindrical not-chair like looking chair is classified as a chair. "
   ]
  },
  {
   "cell_type": "markdown",
   "metadata": {},
   "source": [
    "## Q2. Segmentation Model (40 points)"
   ]
  },
  {
   "cell_type": "markdown",
   "metadata": {},
   "source": [
    "Accuracy of the best model: 0.9028991896272285\n",
    "\n",
    "I classified accuracy of less than 0.5 as a bad result."
   ]
  },
  {
   "cell_type": "markdown",
   "metadata": {},
   "source": [
    "|Accuracy|Ground Truth|Prediction|\n",
    "---|---|---\n",
    "|0.7108|![gt](data/q2/gt_exp_4.gif)|![pred](data/q2/pred_exp_4.gif)|\n",
    "|0.489 (bad)|![gt](data/q2/gt_exp_26.gif)|![pred](data/q2/pred_exp_26.gif)|\n",
    "|0.8561|![gt](data/q2/gt_exp_144.gif)|![pred](data/q2/pred_exp_144.gif)|\n",
    "|0.4946 (bad)|![gt](data/q2/gt_exp_235.gif)|![pred](data/q2/pred_exp_235.gif)|\n",
    "|0.473 (bad)|![gt](data/q2/gt_exp_255.gif)|![pred](data/q2/pred_exp_255.gif)|\n",
    "|0.8712|![gt](data/q2/gt_exp_256.gif)|![pred](data/q2/pred_exp_256.gif)|\n",
    "|0.8346|![gt](data/q2/gt_exp_378.gif)|![pred](data/q2/pred_exp_378.gif)|"
   ]
  },
  {
   "cell_type": "markdown",
   "metadata": {},
   "source": [
    "Interpretation: The segmentation model performs reasonably well. The model learns the distinction between different areas of interest and is able to segment them in most cases. It does find it difficult to sometimes distinguish between areas which seem to have fused together, making distinguishing the class difficult."
   ]
  },
  {
   "cell_type": "markdown",
   "metadata": {},
   "source": [
    "## Q3. Robustness Analysis (20 points)"
   ]
  },
  {
   "cell_type": "markdown",
   "metadata": {
    "vscode": {
     "languageId": "plaintext"
    }
   },
   "source": [
    "### Experiment 1: Changing points to 5000"
   ]
  },
  {
   "cell_type": "markdown",
   "metadata": {},
   "source": [
    "#### Classification\n",
    "\n",
    "Accuracy: 0.9769150052465897\n",
    "\n",
    "|Classification|Ground Truth|Prediction|\n",
    "---|---|---\n",
    "|Chair|![gt](data/q3/points5000/cls/gt_exp_4.gif)|![pred](data/q3/points5000/cls/pred_exp_4.gif)|\n",
    "|Vase|![gt](data/q3/points5000/cls/gt_exp_626.gif)|![pred](data/q3/points5000/cls/pred_exp_626.gif)|\n",
    "|Lamp|![gt](data/q3/points5000/cls/gt_exp_763.gif)|![pred](data/q3/points5000/cls/pred_exp_763.gif)|\n",
    "\n",
    "#### Segmentation\n",
    "\n",
    "Accuracy: 0.9030888168557536\n",
    "\n",
    "|Accuracy|Ground Truth|Prediction|\n",
    "---|---|---\n",
    "|0.8626|![gt](data/q3/points5000/seg/gt_exp_4.gif)|![pred](data/q3/points5000/seg/pred_exp_4.gif)|\n",
    "|0.8322|![gt](data/q3/points5000/seg/gt_exp_144.gif)|![pred](data/q3/points5000/seg/pred_exp_144.gif)|"
   ]
  },
  {
   "cell_type": "markdown",
   "metadata": {},
   "source": [
    "Interpretation: Accuracy slightly goes down as number of pointclouds decrease. "
   ]
  },
  {
   "cell_type": "markdown",
   "metadata": {},
   "source": [
    "### Experiment 2: Changing points to 1000"
   ]
  },
  {
   "cell_type": "markdown",
   "metadata": {},
   "source": [
    "#### Classification\n",
    "\n",
    "Accuracy: 0.9716684155299056\n",
    "\n",
    "|Classification|Ground Truth|Prediction|\n",
    "---|---|---\n",
    "|Chair|![gt](data/q3/points1000/cls/gt_exp_4.gif)|![pred](data/q3/points1000/cls/pred_exp_4.gif)|\n",
    "|Vase|![gt](data/q3/points1000/cls/gt_exp_626.gif)|![pred](data/q3/points1000/cls/pred_exp_626.gif)|\n",
    "|Lamp|![gt](data/q3/points1000/cls/gt_exp_763.gif)|![pred](data/q3/points1000/cls/pred_exp_763.gif)|\n",
    "\n",
    "#### Segmentation\n",
    "\n",
    "Accuracy: 0.8995072933549433\n",
    "\n",
    "|Accuracy|Ground Truth|Prediction|\n",
    "---|---|---\n",
    "|0.8149|![gt](data/q3/points1000/seg/gt_exp_4.gif)|![pred](data/q3/points1000/seg/pred_exp_4.gif)|\n",
    "|0.8449|![gt](data/q3/points1000/seg/gt_exp_144.gif)|![pred](data/q3/points1000/seg/pred_exp_144.gif)|"
   ]
  },
  {
   "cell_type": "markdown",
   "metadata": {},
   "source": [
    "Interpretation: Accuracy slightly goes down as number of pointclouds decrease."
   ]
  },
  {
   "cell_type": "markdown",
   "metadata": {},
   "source": [
    "It shows the classifcation and segmentation is still achievable with a moderate amount of pointclouds."
   ]
  },
  {
   "cell_type": "markdown",
   "metadata": {},
   "source": [
    "### Experiment 3: Rotate points by 10 degrees along one axis"
   ]
  },
  {
   "cell_type": "markdown",
   "metadata": {},
   "source": [
    "Accuracy: 0.4616998950682057\n",
    "\n",
    "|Classification|Ground Truth|Prediction|\n",
    "---|---|---\n",
    "|Chair (Misclassified: Vase)|![gt](data/q3/rotate10/gt_exp_4.gif)|![pred](data/q3/rotate10/pred_exp_4.gif)|\n",
    "|Vase|![gt](data/q3/rotate10/gt_exp_626.gif)|![pred](data/q3/rotate10/pred_exp_626.gif)|\n",
    "|Lamp|![gt](data/q3/rotate10/gt_exp_763.gif)|![pred](data/q3/rotate10/pred_exp_763.gif)|"
   ]
  },
  {
   "cell_type": "markdown",
   "metadata": {},
   "source": [
    "### Experiment 4: Rotate points by 30 degrees along one axis"
   ]
  },
  {
   "cell_type": "markdown",
   "metadata": {},
   "source": [
    "Accuracy: 0.3462749213011542\n",
    "\n",
    "|Classification|Ground Truth|Prediction|\n",
    "---|---|---\n",
    "|Chair (Misclassified: Vase)|![gt](data/q3/rotate30/gt_exp_4.gif)|![pred](data/q3/rotate30/pred_exp_4.gif)|\n",
    "|Vase|![gt](data/q3/rotate30/gt_exp_626.gif)|![pred](data/q3/rotate30/pred_exp_626.gif)|\n",
    "|Lamp (Misclassified: Vase)|![gt](data/q3/rotate30/gt_exp_763.gif)|![pred](data/q3/rotate30/pred_exp_763.gif)|"
   ]
  },
  {
   "cell_type": "markdown",
   "metadata": {},
   "source": [
    "Interpretation: The classification model is immune to slight deviation along the rotation axes, but looses performance in face of large disturbances."
   ]
  },
  {
   "cell_type": "markdown",
   "metadata": {},
   "source": [
    "## Q4. Expressive architectures (10 points + 20 bonus points)"
   ]
  },
  {
   "cell_type": "markdown",
   "metadata": {},
   "source": [
    "Model Description:\n",
    "\n",
    "The model architecture incorporates graph convolutional operations to extract features from the input data, utilizing functions like knn for calculating k-nearest neighbors and get_graph_feature for constructing graph features. The cls_model class comprises convolutional and fully connected layers with batch normalization, LeakyReLU activation, and dropout, culminating in classification scores for the input point clouds. \n",
    "\n",
    "Check models_dgcnn.py for implementation."
   ]
  },
  {
   "cell_type": "markdown",
   "metadata": {},
   "source": [
    "Accuracy: 0.9674711437565582\n",
    "\n",
    "|Classification|Ground Truth|Prediction|\n",
    "---|---|---\n",
    "|Chair|![gt](data/q4/gt_exp_101.gif)|![pred](data/q4/pred_exp_101.gif)|\n",
    "|Chair|![gt](data/q4/gt_exp_259.gif)|![pred](data/q4/pred_exp_259.gif)|\n",
    "|Chair (Misclassified: Lamp)|![gt](data/q4/gt_exp_445.gif)|![pred](data/q4/pred_exp_445.gif)|\n",
    "|Vase|![gt](data/q4/gt_exp_669.gif)|![pred](data/q4/pred_exp_669.gif)|\n",
    "|Vase|![gt](data/q4/gt_exp_684.gif)|![pred](data/q4/pred_exp_684.gif)|\n",
    "|Vase (Misclassified: Lamp)|![gt](data/q4/gt_exp_716.gif)|![pred](data/q4/pred_exp_716.gif)|\n",
    "|Lamp|![gt](data/q4/gt_exp_744.gif)|![pred](data/q4/pred_exp_744.gif)|\n",
    "|Lamp|![gt](data/q4/gt_exp_756.gif)|![pred](data/q4/pred_exp_756.gif)|\n",
    "|Lamp (Misclassified: Vase)|![gt](data/q4/gt_exp_922.gif)|![pred](data/q4/pred_exp_922.gif)|"
   ]
  }
 ],
 "metadata": {
  "language_info": {
   "name": "python"
  }
 },
 "nbformat": 4,
 "nbformat_minor": 2
}

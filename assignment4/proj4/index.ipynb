{
 "cells": [
  {
   "cell_type": "markdown",
   "metadata": {},
   "source": [
    "# Assignment 4\n",
    "Aman Chulawala"
   ]
  },
  {
   "cell_type": "markdown",
   "metadata": {},
   "source": [
    "## Q1. Gaussian Splatting"
   ]
  },
  {
   "cell_type": "markdown",
   "metadata": {},
   "source": [
    "### 1.1 3D Gaussian Rasterization (35 points)"
   ]
  },
  {
   "cell_type": "markdown",
   "metadata": {},
   "source": [
    "![Q1.1](data/q1_render.gif)"
   ]
  },
  {
   "cell_type": "markdown",
   "metadata": {},
   "source": [
    "### 1.2 Training 3D Gaussian Representations (15 points)"
   ]
  },
  {
   "cell_type": "markdown",
   "metadata": {},
   "source": [
    "Number of Iterations: 1000\n",
    "\n",
    "[*] Evaluation --- Mean PSNR: 23.220\n",
    "\n",
    "[*] Evaluation --- Mean SSIM: 0.742\n",
    "\n",
    "\n",
    "parameters = [\n",
    "\n",
    "        {'params': [gaussians.pre_act_opacities], 'lr': 0.05, \"name\": \"opacities\"},\n",
    "\n",
    "        {'params': [gaussians.pre_act_scales], 'lr': 0.01, \"name\": \"scales\"},\n",
    "\n",
    "        {'params': [gaussians.colours], 'lr': 0.02, \"name\": \"colours\"},\n",
    "\n",
    "        {'params': [gaussians.means], 'lr': 0.01, \"name\": \"means\"},\n",
    "\n",
    "    ]"
   ]
  },
  {
   "cell_type": "markdown",
   "metadata": {},
   "source": [
    "![Q1.2.1](data/q1_training_progress.gif)\n",
    "\n",
    "![Q1.2.2](data/q1_training_final_renders.gif)\n"
   ]
  },
  {
   "cell_type": "markdown",
   "metadata": {},
   "source": [
    "### 1.3 Training On a Harder Scene (10 Points)"
   ]
  },
  {
   "cell_type": "markdown",
   "metadata": {},
   "source": [
    "#### A. Best Performing\n",
    "\n",
    "Number of Iterations: 1000\n",
    "\n",
    "[*] Evaluation --- Mean PSNR: 24.673\n",
    "\n",
    "[*] Evaluation --- Mean SSIM: 0.693\n",
    "\n",
    "parameters = [\n",
    "\n",
    "        {'params': [gaussians.pre_act_opacities], 'lr': 0.05, \"name\": \"opacities\"},\n",
    "\n",
    "        {'params': [gaussians.pre_act_scales], 'lr': 0.01, \"name\": \"scales\"},\n",
    "\n",
    "        {'params': [gaussians.colours], 'lr': 0.02, \"name\": \"colours\"},\n",
    "\n",
    "        {'params': [gaussians.means], 'lr': 0.01, \"name\": \"means\"},\n",
    "\n",
    "        {'params': [gaussians.pre_act_quats], 'lr': 0.02, \"name\": \"quats\"}\n",
    "        \n",
    "    ]\n",
    "\n",
    "![Q1.3.1](data/q1_harder_training_progress.gif)\n",
    "\n",
    "![Q1.3.2](data/q1_harder_training_final_renders.gif)\n",
    "\n",
    "#### B. Baseline\n",
    "\n",
    "Number of Iterations: 1000\n",
    "\n",
    "[*] Evaluation --- Mean PSNR: 24.781\n",
    "\n",
    "[*] Evaluation --- Mean SSIM: 0.657\n",
    "\n",
    "parameters = [\n",
    "\n",
    "        {'params': [gaussians.pre_act_opacities], 'lr': 0.05, \"name\": \"opacities\"},\n",
    "\n",
    "        {'params': [gaussians.pre_act_scales], 'lr': 0.01, \"name\": \"scales\"},\n",
    "\n",
    "        {'params': [gaussians.colours], 'lr': 0.02, \"name\": \"colours\"},\n",
    "\n",
    "        {'params': [gaussians.means], 'lr': 0.01, \"name\": \"means\"},\n",
    "\n",
    "        {'params': [gaussians.pre_act_quats], 'lr': 0.02, \"name\": \"quats\"}\n",
    "        \n",
    "    ]\n",
    "\n",
    "![Q1.3.1](data/Q13baseline_final_progress.gif)\n",
    "\n",
    "![Q1.3.2](data/Q13baseline_final_full.gif)\n",
    "\n",
    "I used anisotropic for the best performing model. Hyperparams were not changed. Best performing model takes a little longer to train but gives cleaner results."
   ]
  },
  {
   "cell_type": "markdown",
   "metadata": {},
   "source": [
    "## Q2. Diffusion-guided Optimization"
   ]
  },
  {
   "cell_type": "markdown",
   "metadata": {},
   "source": [
    "### 2.1 SDS Loss + Image Optimization (20 points)"
   ]
  },
  {
   "cell_type": "markdown",
   "metadata": {},
   "source": [
    "|Prompt|Without SDS Guidance|With SDS Guidance|\n",
    "---|---|---\n",
    "|A standing Corgi Dog|![SDS0](data/astandingcorgidog_0_output.png)|![SDS1](data/astandingcorgidog_1_output.png)|\n",
    "|A dragon|![SDS0](data/adragon_0_output.png)|![SDS1](data/adragon_1_output.png)|\n",
    "|A hamburger|![SDS0](data/ahamburger_0_output.png)|![SDS1](data/ahamburger_1_output.png)|\n",
    "|Golden Cocker retriever|![SDS0](data/goldencockerretriever_0_output.png)|![SDS1](data/goldencockerretriever_1_output.png)|"
   ]
  },
  {
   "cell_type": "markdown",
   "metadata": {},
   "source": [
    "### 2.2 Texture Map Optimization for Mesh (15 points)"
   ]
  },
  {
   "cell_type": "markdown",
   "metadata": {},
   "source": [
    "|Prompt|Without SDS Guidance|\n",
    "---|---\n",
    "|Zebra|![mesh1](data/zebra_final_mesh.gif)|\n",
    "|Polka Dot|![mesh2](data/polka_dot_final_mesh.gif)|"
   ]
  },
  {
   "cell_type": "markdown",
   "metadata": {},
   "source": [
    "### 2.3 NeRF Optimization (15 points)"
   ]
  },
  {
   "cell_type": "markdown",
   "metadata": {},
   "source": [
    "The generated file type does not embed well on html. Right click -> Open in new tab if the video does not load!\n",
    "\n",
    "|Prompt|Depth Map|RGB Visuals|\n",
    "---|---|---\n",
    "|A standing Corgi Dog|![Depth](data/nerf/a_standing_corgi_dog1/videos/depth_ep_100.mp4)|![RBB](data/nerf/a_standing_corgi_dog1/videos/rgb_ep_100.mp4)|\n",
    "|Castle on a hill|![Depth](data/nerf/castle_on_a_hill1/videos/depth_ep_100.mp4)|![RBB](data/nerf/castle_on_a_hill1/videos/rgb_ep_100.mp4)|\n",
    "|Race Car|![Depth](data/nerf/race_car1/videos/depth_ep_100.mp4)|![RBB](data/nerf/race_car1/videos/rgb_ep_100.mp4)|"
   ]
  },
  {
   "cell_type": "markdown",
   "metadata": {},
   "source": [
    "### 2.4 Variation of implementation of SDS loss (10 points)"
   ]
  },
  {
   "cell_type": "markdown",
   "metadata": {},
   "source": [
    "I used the implementation discussed in class where we encode the image, find the target latents, and decode the latents into the image. I calculate the MSE loss on the target image and input image.\n",
    "\n",
    "Training is more costly on the GPU memory (~17 Gb) with more training time, with barely any improvements in the results."
   ]
  },
  {
   "cell_type": "markdown",
   "metadata": {},
   "source": [
    "|Prompt|Depth Map|RGB Visuals|\n",
    "---|---|---\n",
    "|Race Car|![Depth](data/depth_ep_160.mp4)|![RBB](data/rgb_ep_160.mp4)|"
   ]
  }
 ],
 "metadata": {
  "language_info": {
   "name": "python"
  }
 },
 "nbformat": 4,
 "nbformat_minor": 2
}
